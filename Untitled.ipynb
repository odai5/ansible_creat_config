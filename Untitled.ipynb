{
 "cells": [
  {
   "cell_type": "code",
   "execution_count": null,
   "metadata": {},
   "outputs": [],
   "source": [
    "!pip3 list | grep jupyter"
   ]
  },
  {
   "cell_type": "code",
   "execution_count": 8,
   "metadata": {},
   "outputs": [],
   "source": [
    "from jinja2 import Environment,FileSystemLoader,Template\n",
    "import yaml\n",
    "from pprint import pprint\n",
    "from ipaddress import IPv4Interface\n",
    "import pandas as pd"
   ]
  },
  {
   "cell_type": "code",
   "execution_count": 2,
   "metadata": {},
   "outputs": [],
   "source": [
    "def custom_ipaddr(ipaddress,operation):\n",
    "    from ipaddress import IPv4Interface\n",
    "    ipadd = IPv4Interface(ipaddress) \n",
    "    attr = getattr(ipadd,operation)\n",
    "    return attr"
   ]
  },
  {
   "cell_type": "code",
   "execution_count": 3,
   "metadata": {},
   "outputs": [],
   "source": [
    "env = Environment(loader=FileSystemLoader('./roles/cmw7/templates/'))\n",
    "env.filters['custom_ipaddr'] = custom_ipaddr"
   ]
  },
  {
   "cell_type": "code",
   "execution_count": 7,
   "metadata": {},
   "outputs": [
    {
     "data": {
      "text/plain": [
       "[{'server_ip': '1.1.1.1', 'src_iface': '2.2.2.2'},\n",
       " {'server_ip': '10.10.10.10', 'src_iface': None},\n",
       " 'server_ip',\n",
       " 'src_iface',\n",
       " {'dest': '10.0.0.0/8',\n",
       "  'out_iface': None,\n",
       "  'nexthop': '12.1.1.2',\n",
       "  'desc': 'test-route'},\n",
       " {'dest': '123.0.0.5/29',\n",
       "  'out_iface': 'S0/1/0',\n",
       "  'nexthop': '13.2.2.1',\n",
       "  'desc': None},\n",
       " {'iface_name': 'g1/0/[1-10]',\n",
       "  'desc': 13213,\n",
       "  'link_type': 'access',\n",
       "  'allow_vlan': 10},\n",
       " {'iface_name': 'g1/0/[48]',\n",
       "  'desc': None,\n",
       "  'link_type': 'trunk',\n",
       "  'allow_vlan': '10 20 30'},\n",
       " {'iface_name': 'loop0', 'desc': 'test', 'ipaddr': '192.168.255.1/32'},\n",
       " {'iface_name': 'g0/0', 'desc': None, 'ipaddr': '12.1.0.1/30'},\n",
       " {'id': '10', 'name': 'pr'},\n",
       " {'id': '20', 'name': 'ts'},\n",
       " {'id': '10,20,30', 'name': None},\n",
       " {'number': 10,\n",
       "  'desc': 132,\n",
       "  'link_type': 'trunk',\n",
       "  'allow_vlan': '10 20 30 40',\n",
       "  'lacp_mode': 'dynamic',\n",
       "  'member': 'g0/0,g0/1,g0/2'},\n",
       " {'number': 20,\n",
       "  'desc': None,\n",
       "  'link_type': 'access',\n",
       "  'allow_vlan': 10,\n",
       "  'lacp_mode': 'static',\n",
       "  'member': 'g1/0,g1/1,g1/2'}]"
      ]
     },
     "execution_count": 7,
     "metadata": {},
     "output_type": "execute_result"
    }
   ],
   "source": [
    "ymlfile = './inventories/group_vars/all.yml'\n",
    "with open(ymlfile) as f:\n",
    "    vars = yaml.full_load(f.read())\n",
    "#     pprint(vars)\n",
    "\n",
    "list1 = []\n",
    "for k,v in vars.items():\n",
    "    list1 += v\n",
    "# df = pd.DataFrame(list1)\n",
    "# df.to_excel('./aaa.xlsx')\n",
    "list1"
   ]
  },
  {
   "cell_type": "code",
   "execution_count": null,
   "metadata": {},
   "outputs": [],
   "source": [
    "tempfile = env.get_template('initial.j2')\n",
    "config = tempfile.render(vars)\n",
    "print(config)"
   ]
  },
  {
   "cell_type": "code",
   "execution_count": null,
   "metadata": {},
   "outputs": [],
   "source": []
  }
 ],
 "metadata": {
  "kernelspec": {
   "display_name": "Python 3",
   "language": "python",
   "name": "python3"
  },
  "language_info": {
   "codemirror_mode": {
    "name": "ipython",
    "version": 3
   },
   "file_extension": ".py",
   "mimetype": "text/x-python",
   "name": "python",
   "nbconvert_exporter": "python",
   "pygments_lexer": "ipython3",
   "version": "3.6.9"
  }
 },
 "nbformat": 4,
 "nbformat_minor": 4
}
