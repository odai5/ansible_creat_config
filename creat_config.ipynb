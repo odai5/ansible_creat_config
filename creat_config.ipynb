{
 "cells": [
  {
   "cell_type": "code",
   "execution_count": null,
   "metadata": {},
   "outputs": [],
   "source": [
    "from jinja2 import Environment,FileSystemLoader,Template\n",
    "import yaml\n",
    "from pprint import pprint\n",
    "from ipaddress import IPv4Interface\n",
    "import pandas as pd"
   ]
  },
  {
   "cell_type": "code",
   "execution_count": null,
   "metadata": {},
   "outputs": [],
   "source": [
    "def custom_ipaddr(ipaddress,operation):\n",
    "    from ipaddress import IPv4Interface\n",
    "    ipadd = IPv4Interface(ipaddress) \n",
    "    attr = getattr(ipadd,operation)\n",
    "    return attr"
   ]
  },
  {
   "cell_type": "code",
   "execution_count": null,
   "metadata": {},
   "outputs": [],
   "source": [
    "env = Environment(loader=FileSystemLoader('./roles/cmw7/templates/'))\n",
    "env.filters['custom_ipaddr'] = custom_ipaddr"
   ]
  },
  {
   "cell_type": "code",
   "execution_count": null,
   "metadata": {},
   "outputs": [],
   "source": [
    "ymlfile = './inventories/group_vars/all.yml'\n",
    "with open(ymlfile) as f:\n",
    "    vars = yaml.load(f.read())\n",
    "    pprint(vars)\n",
    "\n",
    "# list1 = []\n",
    "# for k,v in vars.items():\n",
    "#     list1 += v\n",
    "# df = pd.DataFrame(list1)\n",
    "# df.to_excel('./aaa.xlsx')\n",
    "# list1"
   ]
  },
  {
   "cell_type": "code",
   "execution_count": null,
   "metadata": {},
   "outputs": [],
   "source": [
    "tempfile = env.get_template('initial.j2')\n",
    "config = tempfile.render(vars)\n",
    "print(config)"
   ]
  },
  {
   "cell_type": "code",
   "execution_count": null,
   "metadata": {},
   "outputs": [],
   "source": []
  }
 ],
 "metadata": {
  "kernelspec": {
   "display_name": "Python 3",
   "language": "python",
   "name": "python3"
  },
  "language_info": {
   "codemirror_mode": {
    "name": "ipython",
    "version": 3
   },
   "file_extension": ".py",
   "mimetype": "text/x-python",
   "name": "python",
   "nbconvert_exporter": "python",
   "pygments_lexer": "ipython3",
   "version": "3.7.5-final"
  }
 },
 "nbformat": 4,
 "nbformat_minor": 4
}