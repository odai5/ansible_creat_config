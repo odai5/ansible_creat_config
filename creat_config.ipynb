{
 "cells": [
  {
   "cell_type": "code",
   "execution_count": 2,
   "metadata": {},
   "outputs": [],
   "source": [
    "from jinja2 import Environment,FileSystemLoader,Template\n",
    "import yaml\n",
    "from pprint import pprint\n",
    "from ipaddress import IPv4Interface\n",
    "import pandas as pd"
   ]
  },
  {
   "cell_type": "code",
   "execution_count": 3,
   "metadata": {},
   "outputs": [],
   "source": [
    "def custom_ipaddr(ipaddress,operation):\n",
    "    from ipaddress import IPv4Interface\n",
    "    ipadd = IPv4Interface(ipaddress) \n",
    "    attr = getattr(ipadd,operation)\n",
    "    return attr"
   ]
  },
  {
   "cell_type": "code",
   "execution_count": 4,
   "metadata": {},
   "outputs": [],
   "source": [
    "env = Environment(loader=FileSystemLoader('./roles/cmw7/templates/'))\n",
    "env.filters['custom_ipaddr'] = custom_ipaddr"
   ]
  },
  {
   "cell_type": "code",
   "execution_count": 5,
   "metadata": {},
   "outputs": [
    {
     "name": "stdout",
     "output_type": "stream",
     "text": "{'bagg': [{'allow_vlan': '10 20 30 40',\n           'desc': 132,\n           'lacp_mode': 'dynamic',\n           'link_type': 'trunk',\n           'member': 'g0/0,g0/1,g0/2',\n           'number': 10},\n          {'allow_vlan': 10,\n           'desc': None,\n           'lacp_mode': 'static',\n           'link_type': 'access',\n           'member': 'g1/0,g1/1,g1/2',\n           'number': 20}],\n 'info_center': {'server_ip': '1.1.1.1,2.2.2.2', 'src_iface': None},\n 'l2_interface': [{'allow_vlan': 10,\n                   'desc': 13213,\n                   'iface_name': 'g1/0/[1-10]',\n                   'link_type': 'access'},\n                  {'allow_vlan': '10 20 30',\n                   'desc': None,\n                   'iface_name': 'g1/0/[48]',\n                   'link_type': 'trunk'}],\n 'l3_interface': [{'desc': 'test',\n                   'iface_name': 'loop0',\n                   'ipaddr': '192.168.255.1/32'},\n                  {'desc': None,\n                   'iface_name': 'g0/0',\n                   'ipaddr': '12.1.0.1/30'}],\n 'ntp': [{'server_ip': '1.1.1.1', 'src_iface': '2.2.2.2'},\n         {'server_ip': '10.10.10.10', 'src_iface': None}],\n 'static_route': [{'desc': 'test-route',\n                   'dest': '10.0.0.0/8',\n                   'nexthop': '12.1.1.2',\n                   'out_iface': None},\n                  {'desc': None,\n                   'dest': '123.0.0.5/29',\n                   'nexthop': '13.2.2.1',\n                   'out_iface': 'S0/1/0'}],\n 'vlan': [{'id': '10', 'name': 'pr'},\n          {'id': '20', 'name': 'ts'},\n          {'id': '10,20,30', 'name': None}]}\n"
    }
   ],
   "source": [
    "ymlfile = './inventories/group_vars/all.yml'\n",
    "with open(ymlfile) as f:\n",
    "    vars = yaml.load(f.read())\n",
    "    pprint(vars)\n",
    "\n",
    "# list1 = []\n",
    "# for k,v in vars.items():\n",
    "#     list1 += v\n",
    "# df = pd.DataFrame(list1)\n",
    "# df.to_excel('./aaa.xlsx')\n",
    "# list1"
   ]
  },
  {
   "cell_type": "code",
   "execution_count": 6,
   "metadata": {},
   "outputs": [],
   "source": [
    "tempfile = env.get_template('initial.j2')\n",
    "config = tempfile.render(vars)\n",
    "print(config)"
   ]
  },
  {
   "cell_type": "code",
   "execution_count": null,
   "metadata": {},
   "outputs": [],
   "source": []
  }
 ],
 "metadata": {
  "kernelspec": {
   "display_name": "Python 3",
   "language": "python",
   "name": "python3"
  },
  "language_info": {
   "codemirror_mode": {
    "name": "ipython",
    "version": 3
   },
   "file_extension": ".py",
   "mimetype": "text/x-python",
   "name": "python",
   "nbconvert_exporter": "python",
   "pygments_lexer": "ipython3",
   "version": "3.7.5-final"
  }
 },
 "nbformat": 4,
 "nbformat_minor": 4
}